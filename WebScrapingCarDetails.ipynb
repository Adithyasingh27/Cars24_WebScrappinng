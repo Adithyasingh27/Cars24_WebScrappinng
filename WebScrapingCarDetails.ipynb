{
  "nbformat": 4,
  "nbformat_minor": 0,
  "metadata": {
    "colab": {
      "provenance": [],
      "toc_visible": true
    },
    "kernelspec": {
      "name": "python3",
      "display_name": "Python 3"
    },
    "language_info": {
      "name": "python"
    }
  },
  "cells": [
    {
      "cell_type": "code",
      "source": [
        "# Google Colab-compatible Selenium Setup\n",
        "!apt-get update\n",
        "!apt install chromium-chromedriver\n",
        "!cp /usr/lib/chromium-browser/chromedriver /usr/bin\n",
        "!pip install selenium\n",
        "\n",
        "from selenium import webdriver\n",
        "from selenium.webdriver.common.by import By\n",
        "from selenium.webdriver.chrome.options import Options\n",
        "import pandas as pd\n",
        "import time\n",
        "from google.colab import files\n",
        "\n",
        "# Chrome options for Colab\n",
        "options = Options()\n",
        "options.add_argument('--headless')\n",
        "options.add_argument('--no-sandbox')\n",
        "options.add_argument('--disable-dev-shm-usage')\n",
        "\n",
        "# Initialize ChromeDriver in Colab\n",
        "driver = webdriver.Chrome(options=options)\n",
        "\n",
        "# List of Cars24 URLs to scrape\n",
        "urls = [\n",
        "    \"https://www.cars24.com/buy-used-honda-city-2018-cars-hyderabad-10487347720/\",\n",
        "    \"https://www.cars24.com/buy-used-honda-amaze-2021-cars-hyderabad-10414142739/\",\n",
        "    \"https://www.cars24.com/buy-used-mahindra-thar-2022-cars-hyderabad-10440946725/\",\n",
        "    \"https://www.cars24.com/buy-used-mahindra-xuv500-2020-cars-hyderabad-10445456772/\",\n",
        "    \"https://www.cars24.com/buy-used-maruti-swift-2018-cars-hyderabad-10450140725/\",\n",
        "    \"https://www.cars24.com/buy-used-maruti-s-presso-2021-cars-hyderabad-10406747727/\",\n",
        "    \"https://www.cars24.com/buy-used-maruti-celerio-2016-cars-hyderabad-10471147725/\",\n",
        "    \"https://www.cars24.com/buy-used-maruti-baleno-2016-cars-hyderabad-10414346786/\",\n",
        "    \"https://www.cars24.com/buy-used-tata-altroz-2022-cars-hyderabad-10467740747/\",\n",
        "    \"https://www.cars24.com/buy-used-tata-nexon-2020-cars-hyderabad-10499449782/\"\n",
        "\n",
        "]\n",
        "\n",
        "data = []\n",
        "\n",
        "for url in urls:\n",
        "    driver.get(url)\n",
        "    time.sleep(5)  # wait for page load\n",
        "\n",
        "    try:\n",
        "        name = driver.find_element(By.XPATH, '//h1').text.strip()\n",
        "    except:\n",
        "        name = ''\n",
        "\n",
        "    try:\n",
        "        price_raw = driver.find_element(By.XPATH, '//p[contains(@class, \"sc-braxZu hhzsvw\")]').text\n",
        "    except:\n",
        "        price_raw = ''\n",
        "    price = price_raw.split(\" \")[0].replace(\"₹\", \"\").strip()\n",
        "\n",
        "    # Extract clean labels and values\n",
        "    details = {\n",
        "        'Fuel Type': '',\n",
        "        'Kilometers Driven': '',\n",
        "        'Transmission': '',\n",
        "        'Owner': ''\n",
        "    }\n",
        "\n",
        "    try:\n",
        "        specs = driver.find_elements(By.XPATH, '//ul/li')\n",
        "        for item in specs:\n",
        "            text = item.text.strip()\n",
        "            if 'Make Year' in text:\n",
        "                details['Year'] = text.replace('Make Year', '').strip()\n",
        "            elif 'Fuel' in text:\n",
        "                details['Fuel Type'] = text.replace('Fuel', '').strip()\n",
        "            elif 'KM driven' in text or 'Km driven' in text:\n",
        "                details['Kilometers Driven'] = text.replace('KM driven', '').replace('Km driven', '').strip()\n",
        "            elif 'Transmission' in text:\n",
        "                details['Transmission'] = text.replace('Transmission', '').strip()\n",
        "            elif 'Ownership' in text:\n",
        "                details['Owner'] = text.replace('Ownership', '').strip()\n",
        "    except:\n",
        "        pass\n",
        "\n",
        "    data.append({\n",
        "        'Car Name': name,\n",
        "        'Price': price,\n",
        "        'Fuel Type': details['Fuel Type'],\n",
        "        'Kilometers Driven': details['Kilometers Driven'],\n",
        "        'Transmission': details['Transmission'],\n",
        "        'Owner': details['Owner'],\n",
        "        'Location': 'Hyderabad',\n",
        "        'URL': url\n",
        "    })\n",
        "\n",
        "# Close browser\n",
        "driver.quit()\n",
        "\n",
        "# Create DataFrame and clean extra whitespace\n",
        "df = pd.DataFrame(data)\n",
        "df = df.applymap(lambda x: x.strip() if isinstance(x, str) else x)\n",
        "df.to_csv('cars24_selected_cars.csv', index=False)\n",
        "print(\"Scraping completed. Data saved to 'cars24_selected_cars.csv'.\")\n",
        "\n",
        "# Allow download in Colab\n",
        "files.download('cars24_selected_cars.csv')"
      ],
      "metadata": {
        "colab": {
          "base_uri": "https://localhost:8080/",
          "height": 694
        },
        "id": "GqB4cf8ApxMr",
        "outputId": "ca49bd12-540b-4519-8516-ad9bceaf8866"
      },
      "execution_count": 8,
      "outputs": [
        {
          "output_type": "stream",
          "name": "stdout",
          "text": [
            "\r0% [Working]\r            \rHit:1 https://cloud.r-project.org/bin/linux/ubuntu jammy-cran40/ InRelease\n",
            "Hit:2 https://developer.download.nvidia.com/compute/cuda/repos/ubuntu2204/x86_64  InRelease\n",
            "Hit:3 https://r2u.stat.illinois.edu/ubuntu jammy InRelease\n",
            "Hit:4 http://security.ubuntu.com/ubuntu jammy-security InRelease\n",
            "Hit:5 https://ppa.launchpadcontent.net/deadsnakes/ppa/ubuntu jammy InRelease\n",
            "Hit:6 https://ppa.launchpadcontent.net/graphics-drivers/ppa/ubuntu jammy InRelease\n",
            "Hit:7 https://ppa.launchpadcontent.net/ubuntugis/ppa/ubuntu jammy InRelease\n",
            "Hit:8 http://archive.ubuntu.com/ubuntu jammy InRelease\n",
            "Hit:9 http://archive.ubuntu.com/ubuntu jammy-updates InRelease\n",
            "Hit:10 http://archive.ubuntu.com/ubuntu jammy-backports InRelease\n",
            "Reading package lists... Done\n",
            "W: Skipping acquire of configured file 'main/source/Sources' as repository 'https://r2u.stat.illinois.edu/ubuntu jammy InRelease' does not seem to provide it (sources.list entry misspelt?)\n",
            "Reading package lists... Done\n",
            "Building dependency tree... Done\n",
            "Reading state information... Done\n",
            "chromium-chromedriver is already the newest version (1:85.0.4183.83-0ubuntu2.22.04.1).\n",
            "0 upgraded, 0 newly installed, 0 to remove and 36 not upgraded.\n",
            "cp: '/usr/lib/chromium-browser/chromedriver' and '/usr/bin/chromedriver' are the same file\n",
            "Requirement already satisfied: selenium in /usr/local/lib/python3.11/dist-packages (4.33.0)\n",
            "Requirement already satisfied: urllib3~=2.4.0 in /usr/local/lib/python3.11/dist-packages (from urllib3[socks]~=2.4.0->selenium) (2.4.0)\n",
            "Requirement already satisfied: trio~=0.30.0 in /usr/local/lib/python3.11/dist-packages (from selenium) (0.30.0)\n",
            "Requirement already satisfied: trio-websocket~=0.12.2 in /usr/local/lib/python3.11/dist-packages (from selenium) (0.12.2)\n",
            "Requirement already satisfied: certifi>=2025.4.26 in /usr/local/lib/python3.11/dist-packages (from selenium) (2025.6.15)\n",
            "Requirement already satisfied: typing_extensions~=4.13.2 in /usr/local/lib/python3.11/dist-packages (from selenium) (4.13.2)\n",
            "Requirement already satisfied: websocket-client~=1.8.0 in /usr/local/lib/python3.11/dist-packages (from selenium) (1.8.0)\n",
            "Requirement already satisfied: attrs>=23.2.0 in /usr/local/lib/python3.11/dist-packages (from trio~=0.30.0->selenium) (25.3.0)\n",
            "Requirement already satisfied: sortedcontainers in /usr/local/lib/python3.11/dist-packages (from trio~=0.30.0->selenium) (2.4.0)\n",
            "Requirement already satisfied: idna in /usr/local/lib/python3.11/dist-packages (from trio~=0.30.0->selenium) (3.10)\n",
            "Requirement already satisfied: outcome in /usr/local/lib/python3.11/dist-packages (from trio~=0.30.0->selenium) (1.3.0.post0)\n",
            "Requirement already satisfied: sniffio>=1.3.0 in /usr/local/lib/python3.11/dist-packages (from trio~=0.30.0->selenium) (1.3.1)\n",
            "Requirement already satisfied: wsproto>=0.14 in /usr/local/lib/python3.11/dist-packages (from trio-websocket~=0.12.2->selenium) (1.2.0)\n",
            "Requirement already satisfied: pysocks!=1.5.7,<2.0,>=1.5.6 in /usr/local/lib/python3.11/dist-packages (from urllib3[socks]~=2.4.0->selenium) (1.7.1)\n",
            "Requirement already satisfied: h11<1,>=0.9.0 in /usr/local/lib/python3.11/dist-packages (from wsproto>=0.14->trio-websocket~=0.12.2->selenium) (0.16.0)\n",
            "Scraping completed. Data saved to 'cars24_selected_cars.csv'.\n"
          ]
        },
        {
          "output_type": "stream",
          "name": "stderr",
          "text": [
            "/tmp/ipython-input-8-3905296759.py:96: FutureWarning: DataFrame.applymap has been deprecated. Use DataFrame.map instead.\n",
            "  df = df.applymap(lambda x: x.strip() if isinstance(x, str) else x)\n"
          ]
        },
        {
          "output_type": "display_data",
          "data": {
            "text/plain": [
              "<IPython.core.display.Javascript object>"
            ],
            "application/javascript": [
              "\n",
              "    async function download(id, filename, size) {\n",
              "      if (!google.colab.kernel.accessAllowed) {\n",
              "        return;\n",
              "      }\n",
              "      const div = document.createElement('div');\n",
              "      const label = document.createElement('label');\n",
              "      label.textContent = `Downloading \"${filename}\": `;\n",
              "      div.appendChild(label);\n",
              "      const progress = document.createElement('progress');\n",
              "      progress.max = size;\n",
              "      div.appendChild(progress);\n",
              "      document.body.appendChild(div);\n",
              "\n",
              "      const buffers = [];\n",
              "      let downloaded = 0;\n",
              "\n",
              "      const channel = await google.colab.kernel.comms.open(id);\n",
              "      // Send a message to notify the kernel that we're ready.\n",
              "      channel.send({})\n",
              "\n",
              "      for await (const message of channel.messages) {\n",
              "        // Send a message to notify the kernel that we're ready.\n",
              "        channel.send({})\n",
              "        if (message.buffers) {\n",
              "          for (const buffer of message.buffers) {\n",
              "            buffers.push(buffer);\n",
              "            downloaded += buffer.byteLength;\n",
              "            progress.value = downloaded;\n",
              "          }\n",
              "        }\n",
              "      }\n",
              "      const blob = new Blob(buffers, {type: 'application/binary'});\n",
              "      const a = document.createElement('a');\n",
              "      a.href = window.URL.createObjectURL(blob);\n",
              "      a.download = filename;\n",
              "      div.appendChild(a);\n",
              "      a.click();\n",
              "      div.remove();\n",
              "    }\n",
              "  "
            ]
          },
          "metadata": {}
        },
        {
          "output_type": "display_data",
          "data": {
            "text/plain": [
              "<IPython.core.display.Javascript object>"
            ],
            "application/javascript": [
              "download(\"download_97cf7741-1dc4-4925-ac5d-58a920a0ce05\", \"cars24_selected_cars.csv\", 1632)"
            ]
          },
          "metadata": {}
        }
      ]
    },
    {
      "cell_type": "code",
      "source": [],
      "metadata": {
        "id": "nPAlVS3JILrj"
      },
      "execution_count": null,
      "outputs": []
    }
  ]
}